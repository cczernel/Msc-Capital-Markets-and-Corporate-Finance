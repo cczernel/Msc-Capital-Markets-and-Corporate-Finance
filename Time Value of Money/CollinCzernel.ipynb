{
 "cells": [
  {
   "cell_type": "markdown",
   "id": "f58cfe76",
   "metadata": {},
   "source": [
    "1. Create NPV and IRR calculator \n",
    "2. Create User Interface (functions) to get the required data from the user and complete NPV and IRR analysis\n",
    "3. Conduct calculator and user input tests"
   ]
  },
  {
   "cell_type": "markdown",
   "id": "36e00fe2",
   "metadata": {},
   "source": [
    "Student Name: Collin Czernel\n",
    "\n",
    "Student ID: "
   ]
  },
  {
   "cell_type": "markdown",
   "id": "081a9f68-fdcf-43bd-ac16-b0f7d89f3b5a",
   "metadata": {},
   "source": [
    "We are going to create a NPV and IRR calculator function. We will then create an interface to allow user inputs for cash flow, principal amount (at t = 0), rate of return, and time duration.\n",
    "\n",
    "NPV stands for Net Present Value, which is a method of seeing if an investment will make or lose money based on the \"time value of money\" (e.g. 100 dollars today is worth more than 100 dollars in a year). The initial cash flow is usually negative (as its the investment amount) and the following cash flows are the returns expected each year. We apply a discount to the money earned in the future to reflect what its worth today, and that is all added up. If the NPV is positive, one would expect the venture to be profitable, and if its negative, one would expect to lose money. \n",
    "\n",
    "IRR stands for Internal Rate of Return, which is a percentage that \"shows\" how profitable an investment is expected to be. The IRR is the discount rate (applied in the paragraph above) at which the NPV = 0. If the IRR is higher than a typical investment savings at 3%, it would be considered a \"good\" investment."
   ]
  },
  {
   "cell_type": "code",
   "execution_count": 19,
   "id": "9c38e4d8-75ee-4702-afdc-2f2514df4a22",
   "metadata": {},
   "outputs": [],
   "source": [
    "import numpy_financial as npf"
   ]
  },
  {
   "cell_type": "code",
   "execution_count": 35,
   "id": "6bfa12b2-653e-4c69-8582-346ef9fa6dce",
   "metadata": {},
   "outputs": [],
   "source": [
    "def npv_calculator(ror, principal, cash_flows): # where \"ror\" is the rate of return, principal is the initial amount, cash_flow is the cash flow list)\n",
    "    npv = -principal # The first investment is the negative to balance the potential future earnings as the principal investment \n",
    "    for t, cash in enumerate(cash_flows): # loop through the npv and sum up the values from the formula\n",
    "        npv += cash/(1+ror) ** (t+1)\n",
    "    return npv \n",
    "\n",
    "def irr_calculator(principal, cash_flows):\n",
    "    cash_flow_list = [-principal] + cash_flows # negative for initial investment, creating list with principal amount (as negative) and adding cash flows\n",
    "    irr = npf.irr(cash_flow_list) # using numpy financial module to do the IRR calc on the cash flow list\n",
    "    return irr\n",
    "\n",
    "def evaluate_project(npv, irr, discount):\n",
    "    if npv > 0 and irr >= discount:\n",
    "        print(\"PROJECT RECOMMENDED\")\n",
    "    elif npv < 0 or irr < discount:\n",
    "        print(\"PROJECT NOT RECOMMENDED\")\n",
    "    elif npv == 0 and irr >= discount:\n",
    "        print(\"No gain or loss - investment is pointless\")"
   ]
  },
  {
   "cell_type": "code",
   "execution_count": 39,
   "id": "30399c40-79f0-4991-9cff-f0d913aff64e",
   "metadata": {},
   "outputs": [
    {
     "name": "stdin",
     "output_type": "stream",
     "text": [
      "Enter the initial investment: 100\n",
      "Enter the time frame (in years): 3\n",
      "Enter the cash flow for period 1:  25\n",
      "Enter the cash flow for period 2:  25\n",
      "Enter the cash flow for period 3:  25\n",
      "Enter the discount rate (in decimal): 0.10\n"
     ]
    },
    {
     "name": "stdout",
     "output_type": "stream",
     "text": [
      "The NPV is:  -37.828700225394456\n",
      "The IRR is:  -0.13112314790418045\n",
      "PROJECT NOT RECOMMENDED\n"
     ]
    }
   ],
   "source": [
    "principal = int(input(\"Enter the initial investment:\"))\n",
    "cash_flows = []\n",
    "\n",
    "period = int(input(\"Enter the time frame (in years):\")) # We want to use an int because we're only working with whole years\n",
    "for i in range(period): # depending on how many years t is \n",
    "    cash_flow = float(input(f\"Enter the cash flow for period {i + 1}: \")) # float for non-whole ints\n",
    "    cash_flows.append(cash_flow) # add to cash flows list\n",
    "\n",
    "discount = float(input(\"Enter the discount rate (in decimal):\")) # have to add decimal here for the discount rate, usually using 3% in examples\n",
    "npv_result = npv_calculator(discount, principal, cash_flows) # find the npv of our input values\n",
    "irr_result = irr_calculator(principal, cash_flows) # find the irr of our input values\n",
    "\n",
    "print(\"The NPV is: \", npv_result) # print results\n",
    "print(\"The IRR is: \", irr_result) # print results\n",
    "evaluate_project(npv_result, irr_result, discount)"
   ]
  },
  {
   "cell_type": "markdown",
   "id": "8d1938f1-01fa-44c1-92b7-384b3e24f03c",
   "metadata": {},
   "source": [
    "For a test case where we put in 100, then get 25 back for 3 years, we expect a negative NPV (which we achieve)."
   ]
  },
  {
   "cell_type": "code",
   "execution_count": 43,
   "id": "afa6bc5b-5dd4-46f0-b7f4-33cacf80386e",
   "metadata": {},
   "outputs": [
    {
     "name": "stdin",
     "output_type": "stream",
     "text": [
      "Enter the initial investment: 750\n",
      "Enter the time frame (in years): 4\n",
      "Enter the cash flow for period 1:  210\n",
      "Enter the cash flow for period 2:  250\n",
      "Enter the cash flow for period 3:  300\n",
      "Enter the cash flow for period 4:  250\n",
      "Enter the discount rate (in decimal): 0.175\n"
     ]
    },
    {
     "name": "stdout",
     "output_type": "stream",
     "text": [
      "The NPV is:  -74.11294918663748\n",
      "The IRR is:  12.559483650240132 %\n",
      "PROJECT NOT RECOMMENDED\n"
     ]
    }
   ],
   "source": [
    "# Now testing the examples found in the Excel workbook with error handling \n",
    "cash_flows = []\n",
    "while True: # error handling loop for only accepting floats\n",
    "    try:\n",
    "        principal = float(input(\"Enter the initial investment:\")) # floats to allow for non-whole initial investments.\n",
    "        break\n",
    "    except ValueError:\n",
    "        print(\"The principal amount has to be a number.\")\n",
    "\n",
    "while True: # error handling loop for only accepting ints\n",
    "    try:\n",
    "        period = int(input(\"Enter the time frame (in years):\")) # We want to use an int because we're only working with whole years\n",
    "        break\n",
    "    except ValueError:\n",
    "        print(\"The number of years has to be a whole number.\")\n",
    "\n",
    "for i in range(period): # depending on how many years t is \n",
    "    cash_flow = float(input(f\"Enter the cash flow for period {i + 1}: \")) # float for non-whole ints\n",
    "    cash_flows.append(cash_flow) # add to cash flows list\n",
    "\n",
    "while True: # error handling loop for only accepting floats\n",
    "    try:\n",
    "        discount = float(input(\"Enter the discount rate (in decimal):\")) # have to add decimal here for the discount rate, usually using 3% in examples\n",
    "        break\n",
    "    except ValueError:\n",
    "        print(\"The discount rate should be in decimal form.\")\n",
    "        \n",
    "npv_result = npv_calculator(discount, principal, cash_flows) # find the npv of our input values\n",
    "irr_result = (irr_calculator(principal, cash_flows))*100 # find the irr of our input values\n",
    "\n",
    "print(\"The NPV is: \", npv_result) # print results\n",
    "print(\"The IRR is: \", irr_result, \"%\") # print results\n",
    "evaluate_project(npv_result, irr_result, discount)"
   ]
  },
  {
   "cell_type": "markdown",
   "id": "640b9b5e-fa1f-4fc9-bb48-5ed4eba1de7c",
   "metadata": {},
   "source": [
    "So, this matches the excel example with an NPV of -74.11 and an IRR of 12.56%. This would then be considered a BAD investment as we are overall losing money, as if we invested the 750 originally in a savings account or a similar-risk venture we would likely do better overall. To further add to this, it would be optimal to put the input into a function to be easily called for future use cases."
   ]
  },
  {
   "cell_type": "code",
   "execution_count": null,
   "id": "29e51acb-2e55-4fd5-97ef-e10c94b04321",
   "metadata": {},
   "outputs": [],
   "source": []
  }
 ],
 "metadata": {
  "kernelspec": {
   "display_name": "Python 3 (ipykernel)",
   "language": "python",
   "name": "python3"
  },
  "language_info": {
   "codemirror_mode": {
    "name": "ipython",
    "version": 3
   },
   "file_extension": ".py",
   "mimetype": "text/x-python",
   "name": "python",
   "nbconvert_exporter": "python",
   "pygments_lexer": "ipython3",
   "version": "3.12.4"
  }
 },
 "nbformat": 4,
 "nbformat_minor": 5
}
